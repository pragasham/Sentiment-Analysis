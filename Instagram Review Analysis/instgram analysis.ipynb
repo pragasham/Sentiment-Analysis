{
 "cells": [
  {
   "cell_type": "code",
   "execution_count": 1,
   "metadata": {},
   "outputs": [],
   "source": [
    "import pandas as pd"
   ]
  },
  {
   "cell_type": "code",
   "execution_count": 2,
   "metadata": {},
   "outputs": [],
   "source": [
    "data=pd.read_csv('instagram.csv')"
   ]
  },
  {
   "cell_type": "code",
   "execution_count": 3,
   "metadata": {},
   "outputs": [
    {
     "data": {
      "text/html": [
       "<div>\n",
       "<style scoped>\n",
       "    .dataframe tbody tr th:only-of-type {\n",
       "        vertical-align: middle;\n",
       "    }\n",
       "\n",
       "    .dataframe tbody tr th {\n",
       "        vertical-align: top;\n",
       "    }\n",
       "\n",
       "    .dataframe thead th {\n",
       "        text-align: right;\n",
       "    }\n",
       "</style>\n",
       "<table border=\"1\" class=\"dataframe\">\n",
       "  <thead>\n",
       "    <tr style=\"text-align: right;\">\n",
       "      <th></th>\n",
       "      <th>review_description</th>\n",
       "      <th>rating</th>\n",
       "      <th>review_date</th>\n",
       "    </tr>\n",
       "  </thead>\n",
       "  <tbody>\n",
       "    <tr>\n",
       "      <th>0</th>\n",
       "      <td>The app is good for connecting with friends, f...</td>\n",
       "      <td>3</td>\n",
       "      <td>2023-07-11 23:57:07</td>\n",
       "    </tr>\n",
       "    <tr>\n",
       "      <th>1</th>\n",
       "      <td>Used to be my favorite social media app, but \"...</td>\n",
       "      <td>2</td>\n",
       "      <td>2023-07-22 21:37:09</td>\n",
       "    </tr>\n",
       "    <tr>\n",
       "      <th>2</th>\n",
       "      <td>Instagram is the best of all the social media....</td>\n",
       "      <td>5</td>\n",
       "      <td>2023-07-25 03:24:58</td>\n",
       "    </tr>\n",
       "    <tr>\n",
       "      <th>3</th>\n",
       "      <td>I love this app.. but as of late, I have been ...</td>\n",
       "      <td>2</td>\n",
       "      <td>2023-07-09 04:49:57</td>\n",
       "    </tr>\n",
       "    <tr>\n",
       "      <th>4</th>\n",
       "      <td>Used to be a great app but there are so many m...</td>\n",
       "      <td>3</td>\n",
       "      <td>2023-07-17 16:47:04</td>\n",
       "    </tr>\n",
       "    <tr>\n",
       "      <th>5</th>\n",
       "      <td>The app has been glitching alot. Videos will n...</td>\n",
       "      <td>1</td>\n",
       "      <td>2023-07-11 05:04:31</td>\n",
       "    </tr>\n",
       "    <tr>\n",
       "      <th>6</th>\n",
       "      <td>I like this app a lot, but the messaging part ...</td>\n",
       "      <td>3</td>\n",
       "      <td>2023-07-18 12:48:16</td>\n",
       "    </tr>\n",
       "    <tr>\n",
       "      <th>7</th>\n",
       "      <td>Eventhough sometimes it works, most of the tim...</td>\n",
       "      <td>2</td>\n",
       "      <td>2023-07-13 14:01:32</td>\n",
       "    </tr>\n",
       "    <tr>\n",
       "      <th>8</th>\n",
       "      <td>I'm not sure what the point of leaving a revie...</td>\n",
       "      <td>1</td>\n",
       "      <td>2023-07-14 02:26:22</td>\n",
       "    </tr>\n",
       "    <tr>\n",
       "      <th>9</th>\n",
       "      <td>This app has so many frustrating aspects. The ...</td>\n",
       "      <td>2</td>\n",
       "      <td>2023-07-13 07:46:30</td>\n",
       "    </tr>\n",
       "  </tbody>\n",
       "</table>\n",
       "</div>"
      ],
      "text/plain": [
       "                                  review_description  rating  \\\n",
       "0  The app is good for connecting with friends, f...       3   \n",
       "1  Used to be my favorite social media app, but \"...       2   \n",
       "2  Instagram is the best of all the social media....       5   \n",
       "3  I love this app.. but as of late, I have been ...       2   \n",
       "4  Used to be a great app but there are so many m...       3   \n",
       "5  The app has been glitching alot. Videos will n...       1   \n",
       "6  I like this app a lot, but the messaging part ...       3   \n",
       "7  Eventhough sometimes it works, most of the tim...       2   \n",
       "8  I'm not sure what the point of leaving a revie...       1   \n",
       "9  This app has so many frustrating aspects. The ...       2   \n",
       "\n",
       "           review_date  \n",
       "0  2023-07-11 23:57:07  \n",
       "1  2023-07-22 21:37:09  \n",
       "2  2023-07-25 03:24:58  \n",
       "3  2023-07-09 04:49:57  \n",
       "4  2023-07-17 16:47:04  \n",
       "5  2023-07-11 05:04:31  \n",
       "6  2023-07-18 12:48:16  \n",
       "7  2023-07-13 14:01:32  \n",
       "8  2023-07-14 02:26:22  \n",
       "9  2023-07-13 07:46:30  "
      ]
     },
     "execution_count": 3,
     "metadata": {},
     "output_type": "execute_result"
    }
   ],
   "source": [
    "data.head(10)"
   ]
  },
  {
   "cell_type": "code",
   "execution_count": 7,
   "metadata": {},
   "outputs": [
    {
     "data": {
      "text/plain": [
       "review_description    0\n",
       "rating                0\n",
       "review_date           0\n",
       "dtype: int64"
      ]
     },
     "execution_count": 7,
     "metadata": {},
     "output_type": "execute_result"
    }
   ],
   "source": [
    "data.isnull().sum()"
   ]
  },
  {
   "cell_type": "code",
   "execution_count": 10,
   "metadata": {},
   "outputs": [
    {
     "name": "stderr",
     "output_type": "stream",
     "text": [
      "[nltk_data] Downloading package stopwords to\n",
      "[nltk_data]     C:\\Users\\praga\\AppData\\Roaming\\nltk_data...\n",
      "[nltk_data]   Package stopwords is already up-to-date!\n"
     ]
    }
   ],
   "source": [
    "import nltk\n",
    "import re\n",
    "from nltk.sentiment.vader import SentimentIntensityAnalyzer\n",
    "nltk.download('stopwords')\n",
    "from nltk.corpus import stopwords\n",
    "stopwords=set(stopwords.words('english'))\n",
    "\n"
   ]
  },
  {
   "cell_type": "code",
   "execution_count": 11,
   "metadata": {},
   "outputs": [],
   "source": [
    "stemmer=nltk.SnowballStemmer(\"english\")\n",
    "def clean(text):\n",
    "    text=str(text).lower()\n",
    "    text=re.sub('\\[.*?\\]','',text)\n",
    "    text=re.sub('https?://\\S+|WWW\\.\\S+','',text)\n",
    "    text=re.sub('<.*?>+','',text)\n",
    "    text=re.sub('\\n','',text)\n",
    "    text=re.sub('\\W*\\d\\W*','',text)\n",
    "    text=[word for word in text.split(' ')]\n",
    "    text=\" \".join(text)\n",
    "    text=[stemmer.stem(word) for word in text.split(' ')]\n",
    "    text=\" \".join(text)\n",
    "    return text\n",
    "data[\"review_description\"]=data[\"review_description\"].apply(clean)"
   ]
  },
  {
   "cell_type": "code",
   "execution_count": 13,
   "metadata": {},
   "outputs": [],
   "source": [
    "data.drop(\"rating\",axis=1,inplace=True)"
   ]
  },
  {
   "cell_type": "code",
   "execution_count": 14,
   "metadata": {},
   "outputs": [],
   "source": [
    "data.drop(\"review_date\",axis=1,inplace=True)"
   ]
  },
  {
   "cell_type": "code",
   "execution_count": 15,
   "metadata": {},
   "outputs": [
    {
     "data": {
      "text/html": [
       "<div>\n",
       "<style scoped>\n",
       "    .dataframe tbody tr th:only-of-type {\n",
       "        vertical-align: middle;\n",
       "    }\n",
       "\n",
       "    .dataframe tbody tr th {\n",
       "        vertical-align: top;\n",
       "    }\n",
       "\n",
       "    .dataframe thead th {\n",
       "        text-align: right;\n",
       "    }\n",
       "</style>\n",
       "<table border=\"1\" class=\"dataframe\">\n",
       "  <thead>\n",
       "    <tr style=\"text-align: right;\">\n",
       "      <th></th>\n",
       "      <th>review_description</th>\n",
       "    </tr>\n",
       "  </thead>\n",
       "  <tbody>\n",
       "    <tr>\n",
       "      <th>0</th>\n",
       "      <td>the app is good for connect with friends, fami...</td>\n",
       "    </tr>\n",
       "    <tr>\n",
       "      <th>1</th>\n",
       "      <td>use to be my favorit social media app, but \"im...</td>\n",
       "    </tr>\n",
       "    <tr>\n",
       "      <th>2</th>\n",
       "      <td>instagram is the best of all the social media....</td>\n",
       "    </tr>\n",
       "    <tr>\n",
       "      <th>3</th>\n",
       "      <td>i love this app.. but as of late, i have been ...</td>\n",
       "    </tr>\n",
       "    <tr>\n",
       "      <th>4</th>\n",
       "      <td>use to be a great app but there are so mani mo...</td>\n",
       "    </tr>\n",
       "    <tr>\n",
       "      <th>5</th>\n",
       "      <td>the app has been glitch alot. video will not p...</td>\n",
       "    </tr>\n",
       "    <tr>\n",
       "      <th>6</th>\n",
       "      <td>i like this app a lot, but the messag part of ...</td>\n",
       "    </tr>\n",
       "    <tr>\n",
       "      <th>7</th>\n",
       "      <td>eventhough sometim it works, most of the time ...</td>\n",
       "    </tr>\n",
       "    <tr>\n",
       "      <th>8</th>\n",
       "      <td>i'm not sure what the point of leav a review w...</td>\n",
       "    </tr>\n",
       "    <tr>\n",
       "      <th>9</th>\n",
       "      <td>this app has so mani frustrat aspects. the the...</td>\n",
       "    </tr>\n",
       "  </tbody>\n",
       "</table>\n",
       "</div>"
      ],
      "text/plain": [
       "                                  review_description\n",
       "0  the app is good for connect with friends, fami...\n",
       "1  use to be my favorit social media app, but \"im...\n",
       "2  instagram is the best of all the social media....\n",
       "3  i love this app.. but as of late, i have been ...\n",
       "4  use to be a great app but there are so mani mo...\n",
       "5  the app has been glitch alot. video will not p...\n",
       "6  i like this app a lot, but the messag part of ...\n",
       "7  eventhough sometim it works, most of the time ...\n",
       "8  i'm not sure what the point of leav a review w...\n",
       "9  this app has so mani frustrat aspects. the the..."
      ]
     },
     "execution_count": 15,
     "metadata": {},
     "output_type": "execute_result"
    }
   ],
   "source": [
    "data.head(10)"
   ]
  },
  {
   "cell_type": "code",
   "execution_count": 16,
   "metadata": {},
   "outputs": [],
   "source": [
    "sia=SentimentIntensityAnalyzer()\n",
    "def label_sentiment(x:float):\n",
    "    if x < -0.05 : return 'Negative'\n",
    "    if x > 0.35 : return 'Positive'\n",
    "    return 'Neutral'\n",
    "\n",
    "\n"
   ]
  },
  {
   "cell_type": "code",
   "execution_count": 20,
   "metadata": {},
   "outputs": [],
   "source": [
    "data['Positive']=[sia.polarity_scores(i)[\"pos\"] for i in data[\"review_description\"]]\n",
    "data['Negative']=[sia.polarity_scores(i)[\"neg\"] for i in data[\"review_description\"]]\n",
    "data['Neutral']=[sia.polarity_scores(i)[\"neu\"] for i in data[\"review_description\"]]\n",
    "data=data[[\"review_description\",\"Positive\",\"Negative\",\"Neutral\"]]"
   ]
  },
  {
   "cell_type": "code",
   "execution_count": 21,
   "metadata": {},
   "outputs": [
    {
     "data": {
      "text/html": [
       "<div>\n",
       "<style scoped>\n",
       "    .dataframe tbody tr th:only-of-type {\n",
       "        vertical-align: middle;\n",
       "    }\n",
       "\n",
       "    .dataframe tbody tr th {\n",
       "        vertical-align: top;\n",
       "    }\n",
       "\n",
       "    .dataframe thead th {\n",
       "        text-align: right;\n",
       "    }\n",
       "</style>\n",
       "<table border=\"1\" class=\"dataframe\">\n",
       "  <thead>\n",
       "    <tr style=\"text-align: right;\">\n",
       "      <th></th>\n",
       "      <th>review_description</th>\n",
       "      <th>Positive</th>\n",
       "      <th>Negative</th>\n",
       "      <th>Neutral</th>\n",
       "    </tr>\n",
       "  </thead>\n",
       "  <tbody>\n",
       "    <tr>\n",
       "      <th>0</th>\n",
       "      <td>the app is good for connect with friends, fami...</td>\n",
       "      <td>0.044</td>\n",
       "      <td>0.038</td>\n",
       "      <td>0.918</td>\n",
       "    </tr>\n",
       "    <tr>\n",
       "      <th>1</th>\n",
       "      <td>use to be my favorit social media app, but \"im...</td>\n",
       "      <td>0.025</td>\n",
       "      <td>0.064</td>\n",
       "      <td>0.911</td>\n",
       "    </tr>\n",
       "    <tr>\n",
       "      <th>2</th>\n",
       "      <td>instagram is the best of all the social media....</td>\n",
       "      <td>0.126</td>\n",
       "      <td>0.024</td>\n",
       "      <td>0.850</td>\n",
       "    </tr>\n",
       "    <tr>\n",
       "      <th>3</th>\n",
       "      <td>i love this app.. but as of late, i have been ...</td>\n",
       "      <td>0.095</td>\n",
       "      <td>0.051</td>\n",
       "      <td>0.853</td>\n",
       "    </tr>\n",
       "    <tr>\n",
       "      <th>4</th>\n",
       "      <td>use to be a great app but there are so mani mo...</td>\n",
       "      <td>0.104</td>\n",
       "      <td>0.131</td>\n",
       "      <td>0.765</td>\n",
       "    </tr>\n",
       "    <tr>\n",
       "      <th>5</th>\n",
       "      <td>the app has been glitch alot. video will not p...</td>\n",
       "      <td>0.029</td>\n",
       "      <td>0.056</td>\n",
       "      <td>0.914</td>\n",
       "    </tr>\n",
       "    <tr>\n",
       "      <th>6</th>\n",
       "      <td>i like this app a lot, but the messag part of ...</td>\n",
       "      <td>0.138</td>\n",
       "      <td>0.038</td>\n",
       "      <td>0.824</td>\n",
       "    </tr>\n",
       "    <tr>\n",
       "      <th>7</th>\n",
       "      <td>eventhough sometim it works, most of the time ...</td>\n",
       "      <td>0.139</td>\n",
       "      <td>0.074</td>\n",
       "      <td>0.786</td>\n",
       "    </tr>\n",
       "    <tr>\n",
       "      <th>8</th>\n",
       "      <td>i'm not sure what the point of leav a review w...</td>\n",
       "      <td>0.043</td>\n",
       "      <td>0.061</td>\n",
       "      <td>0.896</td>\n",
       "    </tr>\n",
       "    <tr>\n",
       "      <th>9</th>\n",
       "      <td>this app has so mani frustrat aspects. the the...</td>\n",
       "      <td>0.019</td>\n",
       "      <td>0.092</td>\n",
       "      <td>0.889</td>\n",
       "    </tr>\n",
       "  </tbody>\n",
       "</table>\n",
       "</div>"
      ],
      "text/plain": [
       "                                  review_description  Positive  Negative  \\\n",
       "0  the app is good for connect with friends, fami...     0.044     0.038   \n",
       "1  use to be my favorit social media app, but \"im...     0.025     0.064   \n",
       "2  instagram is the best of all the social media....     0.126     0.024   \n",
       "3  i love this app.. but as of late, i have been ...     0.095     0.051   \n",
       "4  use to be a great app but there are so mani mo...     0.104     0.131   \n",
       "5  the app has been glitch alot. video will not p...     0.029     0.056   \n",
       "6  i like this app a lot, but the messag part of ...     0.138     0.038   \n",
       "7  eventhough sometim it works, most of the time ...     0.139     0.074   \n",
       "8  i'm not sure what the point of leav a review w...     0.043     0.061   \n",
       "9  this app has so mani frustrat aspects. the the...     0.019     0.092   \n",
       "\n",
       "   Neutral  \n",
       "0    0.918  \n",
       "1    0.911  \n",
       "2    0.850  \n",
       "3    0.853  \n",
       "4    0.765  \n",
       "5    0.914  \n",
       "6    0.824  \n",
       "7    0.786  \n",
       "8    0.896  \n",
       "9    0.889  "
      ]
     },
     "execution_count": 21,
     "metadata": {},
     "output_type": "execute_result"
    }
   ],
   "source": [
    "data.head(10)"
   ]
  },
  {
   "cell_type": "code",
   "execution_count": 22,
   "metadata": {},
   "outputs": [
    {
     "name": "stdout",
     "output_type": "stream",
     "text": [
      "Positive :  23017.44699999932\n",
      "Negative : 16571.472999999933\n",
      "Neutral : 170952.75499999814\n"
     ]
    }
   ],
   "source": [
    "x=sum(data['Positive'])\n",
    "y=sum(data['Negative'])\n",
    "z=sum(data['Neutral'])\n",
    "print(\"Positive : \",x)\n",
    "print(\"Negative :\",y)\n",
    "print(\"Neutral :\",z)"
   ]
  },
  {
   "cell_type": "code",
   "execution_count": 23,
   "metadata": {},
   "outputs": [],
   "source": [
    "data[\"sentiment\"]=[sia.polarity_scores(x)['compound'] for x in data['review_description']]\n",
    "data['Overall_Sentiment']=data['sentiment'].apply(label_sentiment)"
   ]
  },
  {
   "cell_type": "code",
   "execution_count": 26,
   "metadata": {},
   "outputs": [
    {
     "data": {
      "text/html": [
       "<div>\n",
       "<style scoped>\n",
       "    .dataframe tbody tr th:only-of-type {\n",
       "        vertical-align: middle;\n",
       "    }\n",
       "\n",
       "    .dataframe tbody tr th {\n",
       "        vertical-align: top;\n",
       "    }\n",
       "\n",
       "    .dataframe thead th {\n",
       "        text-align: right;\n",
       "    }\n",
       "</style>\n",
       "<table border=\"1\" class=\"dataframe\">\n",
       "  <thead>\n",
       "    <tr style=\"text-align: right;\">\n",
       "      <th></th>\n",
       "      <th>review_description</th>\n",
       "      <th>Positive</th>\n",
       "      <th>Negative</th>\n",
       "      <th>Neutral</th>\n",
       "      <th>sentiment</th>\n",
       "      <th>Overall_Sentiment</th>\n",
       "    </tr>\n",
       "  </thead>\n",
       "  <tbody>\n",
       "    <tr>\n",
       "      <th>0</th>\n",
       "      <td>the app is good for connect with friends, fami...</td>\n",
       "      <td>0.044</td>\n",
       "      <td>0.038</td>\n",
       "      <td>0.918</td>\n",
       "      <td>0.1406</td>\n",
       "      <td>Neutral</td>\n",
       "    </tr>\n",
       "    <tr>\n",
       "      <th>1</th>\n",
       "      <td>use to be my favorit social media app, but \"im...</td>\n",
       "      <td>0.025</td>\n",
       "      <td>0.064</td>\n",
       "      <td>0.911</td>\n",
       "      <td>-0.5526</td>\n",
       "      <td>Negative</td>\n",
       "    </tr>\n",
       "    <tr>\n",
       "      <th>2</th>\n",
       "      <td>instagram is the best of all the social media....</td>\n",
       "      <td>0.126</td>\n",
       "      <td>0.024</td>\n",
       "      <td>0.850</td>\n",
       "      <td>0.8860</td>\n",
       "      <td>Positive</td>\n",
       "    </tr>\n",
       "    <tr>\n",
       "      <th>3</th>\n",
       "      <td>i love this app.. but as of late, i have been ...</td>\n",
       "      <td>0.095</td>\n",
       "      <td>0.051</td>\n",
       "      <td>0.853</td>\n",
       "      <td>0.4650</td>\n",
       "      <td>Positive</td>\n",
       "    </tr>\n",
       "    <tr>\n",
       "      <th>4</th>\n",
       "      <td>use to be a great app but there are so mani mo...</td>\n",
       "      <td>0.104</td>\n",
       "      <td>0.131</td>\n",
       "      <td>0.765</td>\n",
       "      <td>-0.6908</td>\n",
       "      <td>Negative</td>\n",
       "    </tr>\n",
       "    <tr>\n",
       "      <th>5</th>\n",
       "      <td>the app has been glitch alot. video will not p...</td>\n",
       "      <td>0.029</td>\n",
       "      <td>0.056</td>\n",
       "      <td>0.914</td>\n",
       "      <td>-0.2434</td>\n",
       "      <td>Negative</td>\n",
       "    </tr>\n",
       "    <tr>\n",
       "      <th>6</th>\n",
       "      <td>i like this app a lot, but the messag part of ...</td>\n",
       "      <td>0.138</td>\n",
       "      <td>0.038</td>\n",
       "      <td>0.824</td>\n",
       "      <td>0.8765</td>\n",
       "      <td>Positive</td>\n",
       "    </tr>\n",
       "    <tr>\n",
       "      <th>7</th>\n",
       "      <td>eventhough sometim it works, most of the time ...</td>\n",
       "      <td>0.139</td>\n",
       "      <td>0.074</td>\n",
       "      <td>0.786</td>\n",
       "      <td>0.6369</td>\n",
       "      <td>Positive</td>\n",
       "    </tr>\n",
       "    <tr>\n",
       "      <th>8</th>\n",
       "      <td>i'm not sure what the point of leav a review w...</td>\n",
       "      <td>0.043</td>\n",
       "      <td>0.061</td>\n",
       "      <td>0.896</td>\n",
       "      <td>-0.1759</td>\n",
       "      <td>Negative</td>\n",
       "    </tr>\n",
       "    <tr>\n",
       "      <th>9</th>\n",
       "      <td>this app has so mani frustrat aspects. the the...</td>\n",
       "      <td>0.019</td>\n",
       "      <td>0.092</td>\n",
       "      <td>0.889</td>\n",
       "      <td>-0.6952</td>\n",
       "      <td>Negative</td>\n",
       "    </tr>\n",
       "  </tbody>\n",
       "</table>\n",
       "</div>"
      ],
      "text/plain": [
       "                                  review_description  Positive  Negative  \\\n",
       "0  the app is good for connect with friends, fami...     0.044     0.038   \n",
       "1  use to be my favorit social media app, but \"im...     0.025     0.064   \n",
       "2  instagram is the best of all the social media....     0.126     0.024   \n",
       "3  i love this app.. but as of late, i have been ...     0.095     0.051   \n",
       "4  use to be a great app but there are so mani mo...     0.104     0.131   \n",
       "5  the app has been glitch alot. video will not p...     0.029     0.056   \n",
       "6  i like this app a lot, but the messag part of ...     0.138     0.038   \n",
       "7  eventhough sometim it works, most of the time ...     0.139     0.074   \n",
       "8  i'm not sure what the point of leav a review w...     0.043     0.061   \n",
       "9  this app has so mani frustrat aspects. the the...     0.019     0.092   \n",
       "\n",
       "   Neutral  sentiment Overall_Sentiment  \n",
       "0    0.918     0.1406           Neutral  \n",
       "1    0.911    -0.5526          Negative  \n",
       "2    0.850     0.8860          Positive  \n",
       "3    0.853     0.4650          Positive  \n",
       "4    0.765    -0.6908          Negative  \n",
       "5    0.914    -0.2434          Negative  \n",
       "6    0.824     0.8765          Positive  \n",
       "7    0.786     0.6369          Positive  \n",
       "8    0.896    -0.1759          Negative  \n",
       "9    0.889    -0.6952          Negative  "
      ]
     },
     "execution_count": 26,
     "metadata": {},
     "output_type": "execute_result"
    }
   ],
   "source": [
    "data.head(10)"
   ]
  },
  {
   "cell_type": "code",
   "execution_count": 31,
   "metadata": {},
   "outputs": [
    {
     "data": {
      "text/plain": [
       "Overall_Sentiment\n",
       "Negative    85534\n",
       "Positive    74212\n",
       "Neutral     50796\n",
       "Name: count, dtype: int64"
      ]
     },
     "execution_count": 31,
     "metadata": {},
     "output_type": "execute_result"
    }
   ],
   "source": [
    "data['Overall_Sentiment'].value_counts()"
   ]
  },
  {
   "cell_type": "code",
   "execution_count": 32,
   "metadata": {},
   "outputs": [
    {
     "data": {
      "image/png": "[encoded data removed]",
      "text/plain": [
       "<Figure size 640x480 with 1 Axes>"
      ]
     },
     "metadata": {},
     "output_type": "display_data"
    }
   ],
   "source": [
    "import matplotlib.pyplot as plt\n",
    "plt.hist(data['Overall_Sentiment'])\n",
    "plt.show()"
   ]
  },
  {
   "cell_type": "markdown",
   "metadata": {},
   "source": [
    "Overall Negative Reviews For Instagram"
   ]
  },
  {
   "cell_type": "markdown",
   "metadata": {},
   "source": []
  }
 ],
 "metadata": {
  "kernelspec": {
   "display_name": "base",
   "language": "python",
   "name": "python3"
  },
  "language_info": {
   "codemirror_mode": {
    "name": "ipython",
    "version": 3
   },
   "file_extension": ".py",
   "mimetype": "text/x-python",
   "name": "python",
   "nbconvert_exporter": "python",
   "pygments_lexer": "ipython3",
   "version": "3.11.7"
  }
 },
 "nbformat": 4,
 "nbformat_minor": 2
}
